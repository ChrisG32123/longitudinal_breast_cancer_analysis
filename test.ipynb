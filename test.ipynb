{
 "cells": [
  {
   "cell_type": "code",
   "execution_count": null,
   "id": "23db22b0",
   "metadata": {},
   "outputs": [],
   "source": [
    "import os\n",
    "import pandas as pd\n",
    "import SimpleITK as sitk\n",
    "from radiomics import featureextractor\n",
    "import numpy as np\n",
    "from pathlib import Path\n",
    "\n",
    "# Test SimpleITK\n",
    "def test_sitk():\n",
    "    # Create a simple image\n",
    "    image = sitk.Image(10, 10, 10, sitk.sitkFloat32)\n",
    "    image.SetSpacing((1.0, 1.0, 1.0))\n",
    "    image.SetOrigin((0.0, 0.0, 0.0))\n",
    "    image.SetDirection((1.0, 0.0, 0.0, 0.0, 1.0, 0.0, 0.0, 0.0, 1.0))\n",
    "    return image\n",
    "\n",
    "image = test_sitk()\n",
    "\n",
    "# Test pyradiomics\n",
    "featureextractor = featureextractor.RadiomicsFeatureExtractor()\n"
   ]
  },
  {
   "cell_type": "code",
   "execution_count": null,
   "id": "e6942058",
   "metadata": {},
   "outputs": [],
   "source": []
  }
 ],
 "metadata": {
  "kernelspec": {
   "display_name": "Python 3",
   "language": "python",
   "name": "python3"
  },
  "language_info": {
   "codemirror_mode": {
    "name": "ipython",
    "version": 3
   },
   "file_extension": ".py",
   "mimetype": "text/x-python",
   "name": "python",
   "nbconvert_exporter": "python",
   "pygments_lexer": "ipython3",
   "version": "3.8.15"
  }
 },
 "nbformat": 4,
 "nbformat_minor": 5
}
